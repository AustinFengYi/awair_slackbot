{
 "cells": [
  {
   "cell_type": "code",
   "execution_count": 1,
   "metadata": {},
   "outputs": [],
   "source": [
    "from influxdb import InfluxDBClient\n",
    "import utility as util\n",
    "from datetime import datetime, timedelta\n",
    "import pandas as pd\n",
    "from pathlib import Path\n",
    "import time\n",
    "from decouple import config\n",
    "from datetime import datetime, timedelta\n",
    "import arrow\n",
    "import slack"
   ]
  },
  {
   "cell_type": "code",
   "execution_count": 2,
   "metadata": {},
   "outputs": [],
   "source": [
    "# Access the .env file Variables\n",
    "from dotenv import load_dotenv\n",
    "%load_ext dotenv\n",
    "%dotenv"
   ]
  },
  {
   "cell_type": "code",
   "execution_count": 3,
   "metadata": {},
   "outputs": [],
   "source": [
    "client = slack.WebClient(token = config('SLACK_TOKEN'))"
   ]
  },
  {
   "cell_type": "code",
   "execution_count": 3,
   "metadata": {},
   "outputs": [],
   "source": [
    "class Influx():\n",
    "    def __init__(self):\n",
    "        self.user = config('INFLUXDB_USERNAME')\n",
    "        self.password = config('INFLUXDB_PASSWORD')\n",
    "        self.host = config('INFLUX_HOST')\n",
    "        self.dbname = 'gateway-generic'  # 'linklab-users'\n",
    "        self.port = 443\n",
    "        self.ssl = True\n",
    "        self.client = self.get_client()\n",
    "\n",
    "    def get_client(self, dbname='gateway-generic'):\n",
    "        client = InfluxDBClient(host=self.host, port=self.port, username=self.user,\n",
    "                                password=self.password, database=self.dbname, ssl=self.ssl)\n",
    "#         print('Retrieving client for: %s' % dbname)\n",
    "        self.client = client\n",
    "        return client\n",
    "\n",
    "    def get_result_set(self, fieldname, add_param):  # show in new readme\n",
    "        q_str = 'SELECT * FROM \"%s\" WHERE %s' % (fieldname, add_param)\n",
    "        client = self.client\n",
    "        result_set = client.query(q_str)\n",
    "        return result_set\n",
    "\n",
    "    def get_device_query_adds(self, device_id_list):\n",
    "        q_append = ''\n",
    "        count = 0\n",
    "        for device_id in device_id_list:\n",
    "            if count == 0:\n",
    "                q_append += 'and (\"device_id\"=\\'%s\\'' % device_id\n",
    "            else:\n",
    "                q_append += 'or \"device_id\"=\\'%s\\'' % device_id\n",
    "            count += 1\n",
    "        q_append += ')'\n",
    "        return q_append \n",
    "\n",
    "    # python datetime objects\n",
    "    def get_time_query_from_now(self):\n",
    "        now = datetime.now()\n",
    "        current_time = now.strftime(\"%H:%M:%S\")\n",
    "        print(\"Current Time:\", current_time)\n",
    "        # tq = \"time >= '%s' and time < '%s'\" % (start_time, end_time)\n",
    "        tq = \"time > now() -1m \"\n",
    "        return tq\n",
    "    \n",
    "def get_awair_data(fieldname, device_id):\n",
    "    x = Influx()\n",
    "    a = x.get_time_query_from_now()\n",
    "    print('Retrieving device: %s, field: %s' % (device_id,fieldname))\n",
    "    if device_id is not None:\n",
    "        a += x.get_device_query_adds([device_id])\n",
    "    \n",
    "    r = x.get_result_set(fieldname, a)\n",
    "    \n",
    "    if util.get_longform_df(r) is None:\n",
    "        return None\n",
    "    else: \n",
    "        return util.get_longform_df(r).tail(1)"
   ]
  },
  {
   "cell_type": "code",
   "execution_count": 4,
   "metadata": {},
   "outputs": [],
   "source": [
    "filepath = Path('linklab_awair_with_px.csv')\n",
    "df = pd.read_csv(filepath)"
   ]
  },
  {
   "cell_type": "code",
   "execution_count": 10,
   "metadata": {},
   "outputs": [],
   "source": [
    "# insecure-requestwarnings-be-disabled-in-the-requests-module\n",
    "from requests.packages import urllib3\n",
    "urllib3.disable_warnings(urllib3.exceptions.InsecureRequestWarning)"
   ]
  },
  {
   "cell_type": "code",
   "execution_count": 11,
   "metadata": {
    "scrolled": true
   },
   "outputs": [
    {
     "name": "stdout",
     "output_type": "stream",
     "text": [
      "Current Time: 15:11:02\n",
      "Retrieving device: 70886b123962, field: co2_ppm\n"
     ]
    },
    {
     "data": {
      "text/html": [
       "<div>\n",
       "<style scoped>\n",
       "    .dataframe tbody tr th:only-of-type {\n",
       "        vertical-align: middle;\n",
       "    }\n",
       "\n",
       "    .dataframe tbody tr th {\n",
       "        vertical-align: top;\n",
       "    }\n",
       "\n",
       "    .dataframe thead th {\n",
       "        text-align: right;\n",
       "    }\n",
       "</style>\n",
       "<table border=\"1\" class=\"dataframe\">\n",
       "  <thead>\n",
       "    <tr style=\"text-align: right;\">\n",
       "      <th></th>\n",
       "      <th>time</th>\n",
       "      <th>0</th>\n",
       "      <th>1</th>\n",
       "      <th>2</th>\n",
       "      <th>3</th>\n",
       "      <th>awair_device_uuid</th>\n",
       "      <th>awair_mac_address</th>\n",
       "      <th>description</th>\n",
       "      <th>details</th>\n",
       "      <th>device_class</th>\n",
       "      <th>device_id</th>\n",
       "      <th>facilities_tag</th>\n",
       "      <th>gateway_id</th>\n",
       "      <th>location_general</th>\n",
       "      <th>location_specific</th>\n",
       "      <th>received_time</th>\n",
       "      <th>receiver</th>\n",
       "      <th>value</th>\n",
       "    </tr>\n",
       "  </thead>\n",
       "  <tbody>\n",
       "    <tr>\n",
       "      <th>5</th>\n",
       "      <td>2023-03-20 15:10:59-04:00</td>\n",
       "      <td>None</td>\n",
       "      <td>None</td>\n",
       "      <td>None</td>\n",
       "      <td>None</td>\n",
       "      <td>awair-omni_16469</td>\n",
       "      <td>None</td>\n",
       "      <td>Table 3</td>\n",
       "      <td>None</td>\n",
       "      <td>undefined</td>\n",
       "      <td>70886b123962</td>\n",
       "      <td>None</td>\n",
       "      <td>c0:98:e5:c0:00:38</td>\n",
       "      <td>UVA</td>\n",
       "      <td>211 Olsson</td>\n",
       "      <td>None</td>\n",
       "      <td>http-awairlocal-publish</td>\n",
       "      <td>514</td>\n",
       "    </tr>\n",
       "  </tbody>\n",
       "</table>\n",
       "</div>"
      ],
      "text/plain": [
       "                       time     0     1     2     3 awair_device_uuid  \\\n",
       "5 2023-03-20 15:10:59-04:00  None  None  None  None  awair-omni_16469   \n",
       "\n",
       "  awair_mac_address description details device_class     device_id  \\\n",
       "5              None     Table 3    None    undefined  70886b123962   \n",
       "\n",
       "  facilities_tag         gateway_id location_general location_specific  \\\n",
       "5           None  c0:98:e5:c0:00:38              UVA        211 Olsson   \n",
       "\n",
       "  received_time                 receiver  value  \n",
       "5          None  http-awairlocal-publish    514  "
      ]
     },
     "execution_count": 11,
     "metadata": {},
     "output_type": "execute_result"
    }
   ],
   "source": [
    "device_id = '70886b123962'\n",
    "fieldname = 'co2_ppm'\n",
    "get_awair_data(fieldname, device_id )\n",
    "# print(qs)\n",
    "# print(f\"Awair {device_id} '{fieldname}' value:{qs['value'].to_string(index=False)}%\")\n"
   ]
  },
  {
   "cell_type": "code",
   "execution_count": 5,
   "metadata": {
    "scrolled": false
   },
   "outputs": [
    {
     "name": "stdout",
     "output_type": "stream",
     "text": [
      "Current Time: 13:52:52\n",
      "Retrieving device: 70886b125d88, field: battery_%\n",
      "Current Time: 13:52:52\n",
      "Retrieving device: 70886b122593, field: battery_%\n",
      "Current Time: 13:52:52\n",
      "Retrieving device: 70886b123c0b, field: battery_%\n",
      "Current Time: 13:52:52\n",
      "Retrieving device: 70886b12335b, field: battery_%\n",
      "Current Time: 13:52:52\n",
      "Retrieving device: 70886b126a0e, field: battery_%\n",
      "Current Time: 13:52:52\n",
      "Retrieving device: 70886b1234a0, field: battery_%\n"
     ]
    },
    {
     "name": "stderr",
     "output_type": "stream",
     "text": [
      "/Users/apple/opt/anaconda3/envs/py36/lib/python3.6/site-packages/urllib3/connectionpool.py:847: InsecureRequestWarning: Unverified HTTPS request is being made. Adding certificate verification is strongly advised. See: https://urllib3.readthedocs.io/en/latest/advanced-usage.html#ssl-warnings\n",
      "  InsecureRequestWarning)\n",
      "/Users/apple/opt/anaconda3/envs/py36/lib/python3.6/site-packages/urllib3/connectionpool.py:847: InsecureRequestWarning: Unverified HTTPS request is being made. Adding certificate verification is strongly advised. See: https://urllib3.readthedocs.io/en/latest/advanced-usage.html#ssl-warnings\n",
      "  InsecureRequestWarning)\n",
      "/Users/apple/opt/anaconda3/envs/py36/lib/python3.6/site-packages/urllib3/connectionpool.py:847: InsecureRequestWarning: Unverified HTTPS request is being made. Adding certificate verification is strongly advised. See: https://urllib3.readthedocs.io/en/latest/advanced-usage.html#ssl-warnings\n",
      "  InsecureRequestWarning)\n",
      "/Users/apple/opt/anaconda3/envs/py36/lib/python3.6/site-packages/urllib3/connectionpool.py:847: InsecureRequestWarning: Unverified HTTPS request is being made. Adding certificate verification is strongly advised. See: https://urllib3.readthedocs.io/en/latest/advanced-usage.html#ssl-warnings\n",
      "  InsecureRequestWarning)\n",
      "/Users/apple/opt/anaconda3/envs/py36/lib/python3.6/site-packages/urllib3/connectionpool.py:847: InsecureRequestWarning: Unverified HTTPS request is being made. Adding certificate verification is strongly advised. See: https://urllib3.readthedocs.io/en/latest/advanced-usage.html#ssl-warnings\n",
      "  InsecureRequestWarning)\n",
      "/Users/apple/opt/anaconda3/envs/py36/lib/python3.6/site-packages/urllib3/connectionpool.py:847: InsecureRequestWarning: Unverified HTTPS request is being made. Adding certificate verification is strongly advised. See: https://urllib3.readthedocs.io/en/latest/advanced-usage.html#ssl-warnings\n",
      "  InsecureRequestWarning)\n"
     ]
    },
    {
     "name": "stdout",
     "output_type": "stream",
     "text": [
      "Current Time: 13:52:52\n",
      "Retrieving device: 70886b123735, field: battery_%\n",
      "Current Time: 13:52:52\n",
      "Retrieving device: 70886b1238b5, field: battery_%\n",
      "Current Time: 13:52:52\n",
      "Retrieving device: 70886b12395b, field: battery_%\n",
      "Current Time: 13:52:52\n",
      "Retrieving device: 70886b123962, field: battery_%\n",
      "Current Time: 13:52:53\n",
      "Retrieving device: 70886b123992, field: battery_%\n",
      "Current Time: 13:52:53\n",
      "Retrieving device: 70886b123b81, field: battery_%\n"
     ]
    },
    {
     "name": "stderr",
     "output_type": "stream",
     "text": [
      "/Users/apple/opt/anaconda3/envs/py36/lib/python3.6/site-packages/urllib3/connectionpool.py:847: InsecureRequestWarning: Unverified HTTPS request is being made. Adding certificate verification is strongly advised. See: https://urllib3.readthedocs.io/en/latest/advanced-usage.html#ssl-warnings\n",
      "  InsecureRequestWarning)\n",
      "/Users/apple/opt/anaconda3/envs/py36/lib/python3.6/site-packages/urllib3/connectionpool.py:847: InsecureRequestWarning: Unverified HTTPS request is being made. Adding certificate verification is strongly advised. See: https://urllib3.readthedocs.io/en/latest/advanced-usage.html#ssl-warnings\n",
      "  InsecureRequestWarning)\n",
      "/Users/apple/opt/anaconda3/envs/py36/lib/python3.6/site-packages/urllib3/connectionpool.py:847: InsecureRequestWarning: Unverified HTTPS request is being made. Adding certificate verification is strongly advised. See: https://urllib3.readthedocs.io/en/latest/advanced-usage.html#ssl-warnings\n",
      "  InsecureRequestWarning)\n",
      "/Users/apple/opt/anaconda3/envs/py36/lib/python3.6/site-packages/urllib3/connectionpool.py:847: InsecureRequestWarning: Unverified HTTPS request is being made. Adding certificate verification is strongly advised. See: https://urllib3.readthedocs.io/en/latest/advanced-usage.html#ssl-warnings\n",
      "  InsecureRequestWarning)\n",
      "/Users/apple/opt/anaconda3/envs/py36/lib/python3.6/site-packages/urllib3/connectionpool.py:847: InsecureRequestWarning: Unverified HTTPS request is being made. Adding certificate verification is strongly advised. See: https://urllib3.readthedocs.io/en/latest/advanced-usage.html#ssl-warnings\n",
      "  InsecureRequestWarning)\n",
      "/Users/apple/opt/anaconda3/envs/py36/lib/python3.6/site-packages/urllib3/connectionpool.py:847: InsecureRequestWarning: Unverified HTTPS request is being made. Adding certificate verification is strongly advised. See: https://urllib3.readthedocs.io/en/latest/advanced-usage.html#ssl-warnings\n",
      "  InsecureRequestWarning)\n"
     ]
    },
    {
     "name": "stdout",
     "output_type": "stream",
     "text": [
      "Current Time: 13:52:53\n",
      "Retrieving device: 70886b123b83, field: battery_%\n",
      "Current Time: 13:52:53\n",
      "Retrieving device: 70886b1275bc, field: battery_%\n",
      "Current Time: 13:52:53\n",
      "Retrieving device: 70886b127639, field: battery_%\n",
      "Current Time: 13:52:53\n",
      "Retrieving device: 70886b127730, field: battery_%\n",
      "Current Time: 13:52:53\n",
      "Retrieving device: 70886b12778c, field: battery_%\n",
      "Current Time: 13:52:53\n",
      "Retrieving device: 70886b1268c6, field: battery_%\n"
     ]
    },
    {
     "name": "stderr",
     "output_type": "stream",
     "text": [
      "/Users/apple/opt/anaconda3/envs/py36/lib/python3.6/site-packages/urllib3/connectionpool.py:847: InsecureRequestWarning: Unverified HTTPS request is being made. Adding certificate verification is strongly advised. See: https://urllib3.readthedocs.io/en/latest/advanced-usage.html#ssl-warnings\n",
      "  InsecureRequestWarning)\n",
      "/Users/apple/opt/anaconda3/envs/py36/lib/python3.6/site-packages/urllib3/connectionpool.py:847: InsecureRequestWarning: Unverified HTTPS request is being made. Adding certificate verification is strongly advised. See: https://urllib3.readthedocs.io/en/latest/advanced-usage.html#ssl-warnings\n",
      "  InsecureRequestWarning)\n",
      "/Users/apple/opt/anaconda3/envs/py36/lib/python3.6/site-packages/urllib3/connectionpool.py:847: InsecureRequestWarning: Unverified HTTPS request is being made. Adding certificate verification is strongly advised. See: https://urllib3.readthedocs.io/en/latest/advanced-usage.html#ssl-warnings\n",
      "  InsecureRequestWarning)\n",
      "/Users/apple/opt/anaconda3/envs/py36/lib/python3.6/site-packages/urllib3/connectionpool.py:847: InsecureRequestWarning: Unverified HTTPS request is being made. Adding certificate verification is strongly advised. See: https://urllib3.readthedocs.io/en/latest/advanced-usage.html#ssl-warnings\n",
      "  InsecureRequestWarning)\n",
      "/Users/apple/opt/anaconda3/envs/py36/lib/python3.6/site-packages/urllib3/connectionpool.py:847: InsecureRequestWarning: Unverified HTTPS request is being made. Adding certificate verification is strongly advised. See: https://urllib3.readthedocs.io/en/latest/advanced-usage.html#ssl-warnings\n",
      "  InsecureRequestWarning)\n",
      "/Users/apple/opt/anaconda3/envs/py36/lib/python3.6/site-packages/urllib3/connectionpool.py:847: InsecureRequestWarning: Unverified HTTPS request is being made. Adding certificate verification is strongly advised. See: https://urllib3.readthedocs.io/en/latest/advanced-usage.html#ssl-warnings\n",
      "  InsecureRequestWarning)\n"
     ]
    },
    {
     "name": "stdout",
     "output_type": "stream",
     "text": [
      "Current Time: 13:52:53\n",
      "Retrieving device: 70886b126a04, field: battery_%\n",
      "Current Time: 13:52:53\n",
      "Retrieving device: 70886b125d64, field: battery_%\n",
      "Current Time: 13:52:53\n",
      "Retrieving device: 70886b123507, field: battery_%\n",
      "Current Time: 13:52:53\n",
      "Retrieving device: 70886b123a60, field: battery_%\n",
      "Current Time: 13:52:53\n",
      "Retrieving device: 70886b12532b, field: battery_%\n",
      "Current Time: 13:52:53\n",
      "Retrieving device: 70886b12349c, field: battery_%\n",
      "Current Time: 13:52:53\n",
      "Retrieving device: 70886b12537c, field: battery_%\n"
     ]
    },
    {
     "name": "stderr",
     "output_type": "stream",
     "text": [
      "/Users/apple/opt/anaconda3/envs/py36/lib/python3.6/site-packages/urllib3/connectionpool.py:847: InsecureRequestWarning: Unverified HTTPS request is being made. Adding certificate verification is strongly advised. See: https://urllib3.readthedocs.io/en/latest/advanced-usage.html#ssl-warnings\n",
      "  InsecureRequestWarning)\n",
      "/Users/apple/opt/anaconda3/envs/py36/lib/python3.6/site-packages/urllib3/connectionpool.py:847: InsecureRequestWarning: Unverified HTTPS request is being made. Adding certificate verification is strongly advised. See: https://urllib3.readthedocs.io/en/latest/advanced-usage.html#ssl-warnings\n",
      "  InsecureRequestWarning)\n",
      "/Users/apple/opt/anaconda3/envs/py36/lib/python3.6/site-packages/urllib3/connectionpool.py:847: InsecureRequestWarning: Unverified HTTPS request is being made. Adding certificate verification is strongly advised. See: https://urllib3.readthedocs.io/en/latest/advanced-usage.html#ssl-warnings\n",
      "  InsecureRequestWarning)\n",
      "/Users/apple/opt/anaconda3/envs/py36/lib/python3.6/site-packages/urllib3/connectionpool.py:847: InsecureRequestWarning: Unverified HTTPS request is being made. Adding certificate verification is strongly advised. See: https://urllib3.readthedocs.io/en/latest/advanced-usage.html#ssl-warnings\n",
      "  InsecureRequestWarning)\n",
      "/Users/apple/opt/anaconda3/envs/py36/lib/python3.6/site-packages/urllib3/connectionpool.py:847: InsecureRequestWarning: Unverified HTTPS request is being made. Adding certificate verification is strongly advised. See: https://urllib3.readthedocs.io/en/latest/advanced-usage.html#ssl-warnings\n",
      "  InsecureRequestWarning)\n",
      "/Users/apple/opt/anaconda3/envs/py36/lib/python3.6/site-packages/urllib3/connectionpool.py:847: InsecureRequestWarning: Unverified HTTPS request is being made. Adding certificate verification is strongly advised. See: https://urllib3.readthedocs.io/en/latest/advanced-usage.html#ssl-warnings\n",
      "  InsecureRequestWarning)\n",
      "/Users/apple/opt/anaconda3/envs/py36/lib/python3.6/site-packages/urllib3/connectionpool.py:847: InsecureRequestWarning: Unverified HTTPS request is being made. Adding certificate verification is strongly advised. See: https://urllib3.readthedocs.io/en/latest/advanced-usage.html#ssl-warnings\n",
      "  InsecureRequestWarning)\n"
     ]
    },
    {
     "name": "stdout",
     "output_type": "stream",
     "text": [
      "Current Time: 13:52:53\n",
      "Retrieving device: 70886b126a7b, field: battery_%\n",
      "Current Time: 13:52:53\n",
      "Retrieving device: 70886b123a62, field: battery_%\n",
      "Current Time: 13:52:53\n",
      "Retrieving device: 70886b123935, field: battery_%\n",
      "Current Time: 13:52:53\n",
      "Retrieving device: 70886b123039, field: battery_%\n",
      "Current Time: 13:52:53\n",
      "Retrieving device: 70886b123bc8, field: battery_%\n"
     ]
    },
    {
     "name": "stderr",
     "output_type": "stream",
     "text": [
      "/Users/apple/opt/anaconda3/envs/py36/lib/python3.6/site-packages/urllib3/connectionpool.py:847: InsecureRequestWarning: Unverified HTTPS request is being made. Adding certificate verification is strongly advised. See: https://urllib3.readthedocs.io/en/latest/advanced-usage.html#ssl-warnings\n",
      "  InsecureRequestWarning)\n",
      "/Users/apple/opt/anaconda3/envs/py36/lib/python3.6/site-packages/urllib3/connectionpool.py:847: InsecureRequestWarning: Unverified HTTPS request is being made. Adding certificate verification is strongly advised. See: https://urllib3.readthedocs.io/en/latest/advanced-usage.html#ssl-warnings\n",
      "  InsecureRequestWarning)\n",
      "/Users/apple/opt/anaconda3/envs/py36/lib/python3.6/site-packages/urllib3/connectionpool.py:847: InsecureRequestWarning: Unverified HTTPS request is being made. Adding certificate verification is strongly advised. See: https://urllib3.readthedocs.io/en/latest/advanced-usage.html#ssl-warnings\n",
      "  InsecureRequestWarning)\n",
      "/Users/apple/opt/anaconda3/envs/py36/lib/python3.6/site-packages/urllib3/connectionpool.py:847: InsecureRequestWarning: Unverified HTTPS request is being made. Adding certificate verification is strongly advised. See: https://urllib3.readthedocs.io/en/latest/advanced-usage.html#ssl-warnings\n",
      "  InsecureRequestWarning)\n",
      "/Users/apple/opt/anaconda3/envs/py36/lib/python3.6/site-packages/urllib3/connectionpool.py:847: InsecureRequestWarning: Unverified HTTPS request is being made. Adding certificate verification is strongly advised. See: https://urllib3.readthedocs.io/en/latest/advanced-usage.html#ssl-warnings\n",
      "  InsecureRequestWarning)\n",
      "/Users/apple/opt/anaconda3/envs/py36/lib/python3.6/site-packages/urllib3/connectionpool.py:847: InsecureRequestWarning: Unverified HTTPS request is being made. Adding certificate verification is strongly advised. See: https://urllib3.readthedocs.io/en/latest/advanced-usage.html#ssl-warnings\n",
      "  InsecureRequestWarning)\n"
     ]
    },
    {
     "name": "stdout",
     "output_type": "stream",
     "text": [
      "Current Time: 13:52:53\n",
      "Retrieving device: 70886b1232f1, field: battery_%\n",
      "Current Time: 13:52:53\n",
      "Retrieving device: 70886b123368, field: battery_%\n",
      "Current Time: 13:52:53\n",
      "Retrieving device: 70886b1235d7, field: battery_%\n",
      "Current Time: 13:52:53\n",
      "Retrieving device: 70886b126223, field: battery_%\n",
      "Current Time: 13:52:53\n",
      "Retrieving device: 70886b1277ca, field: battery_%\n",
      "Current Time: 13:52:53\n",
      "Retrieving device: 70886b123059, field: battery_%\n"
     ]
    },
    {
     "name": "stderr",
     "output_type": "stream",
     "text": [
      "/Users/apple/opt/anaconda3/envs/py36/lib/python3.6/site-packages/urllib3/connectionpool.py:847: InsecureRequestWarning: Unverified HTTPS request is being made. Adding certificate verification is strongly advised. See: https://urllib3.readthedocs.io/en/latest/advanced-usage.html#ssl-warnings\n",
      "  InsecureRequestWarning)\n",
      "/Users/apple/opt/anaconda3/envs/py36/lib/python3.6/site-packages/urllib3/connectionpool.py:847: InsecureRequestWarning: Unverified HTTPS request is being made. Adding certificate verification is strongly advised. See: https://urllib3.readthedocs.io/en/latest/advanced-usage.html#ssl-warnings\n",
      "  InsecureRequestWarning)\n",
      "/Users/apple/opt/anaconda3/envs/py36/lib/python3.6/site-packages/urllib3/connectionpool.py:847: InsecureRequestWarning: Unverified HTTPS request is being made. Adding certificate verification is strongly advised. See: https://urllib3.readthedocs.io/en/latest/advanced-usage.html#ssl-warnings\n",
      "  InsecureRequestWarning)\n",
      "/Users/apple/opt/anaconda3/envs/py36/lib/python3.6/site-packages/urllib3/connectionpool.py:847: InsecureRequestWarning: Unverified HTTPS request is being made. Adding certificate verification is strongly advised. See: https://urllib3.readthedocs.io/en/latest/advanced-usage.html#ssl-warnings\n",
      "  InsecureRequestWarning)\n",
      "/Users/apple/opt/anaconda3/envs/py36/lib/python3.6/site-packages/urllib3/connectionpool.py:847: InsecureRequestWarning: Unverified HTTPS request is being made. Adding certificate verification is strongly advised. See: https://urllib3.readthedocs.io/en/latest/advanced-usage.html#ssl-warnings\n",
      "  InsecureRequestWarning)\n",
      "/Users/apple/opt/anaconda3/envs/py36/lib/python3.6/site-packages/urllib3/connectionpool.py:847: InsecureRequestWarning: Unverified HTTPS request is being made. Adding certificate verification is strongly advised. See: https://urllib3.readthedocs.io/en/latest/advanced-usage.html#ssl-warnings\n",
      "  InsecureRequestWarning)\n"
     ]
    },
    {
     "name": "stdout",
     "output_type": "stream",
     "text": [
      "Current Time: 13:52:53\n",
      "Retrieving device: 70886b1230f2, field: battery_%\n",
      "Current Time: 13:52:54\n",
      "Retrieving device: 70886b1235d4, field: battery_%\n",
      "Current Time: 13:52:54\n",
      "Retrieving device: 70886b12762f, field: battery_%\n",
      "Current Time: 13:52:54\n",
      "Retrieving device: 70886b123c41, field: battery_%\n",
      "Current Time: 13:52:54\n",
      "Retrieving device: 70886b125f1e, field: battery_%\n"
     ]
    },
    {
     "name": "stderr",
     "output_type": "stream",
     "text": [
      "/Users/apple/opt/anaconda3/envs/py36/lib/python3.6/site-packages/urllib3/connectionpool.py:847: InsecureRequestWarning: Unverified HTTPS request is being made. Adding certificate verification is strongly advised. See: https://urllib3.readthedocs.io/en/latest/advanced-usage.html#ssl-warnings\n",
      "  InsecureRequestWarning)\n",
      "/Users/apple/opt/anaconda3/envs/py36/lib/python3.6/site-packages/urllib3/connectionpool.py:847: InsecureRequestWarning: Unverified HTTPS request is being made. Adding certificate verification is strongly advised. See: https://urllib3.readthedocs.io/en/latest/advanced-usage.html#ssl-warnings\n",
      "  InsecureRequestWarning)\n",
      "/Users/apple/opt/anaconda3/envs/py36/lib/python3.6/site-packages/urllib3/connectionpool.py:847: InsecureRequestWarning: Unverified HTTPS request is being made. Adding certificate verification is strongly advised. See: https://urllib3.readthedocs.io/en/latest/advanced-usage.html#ssl-warnings\n",
      "  InsecureRequestWarning)\n",
      "/Users/apple/opt/anaconda3/envs/py36/lib/python3.6/site-packages/urllib3/connectionpool.py:847: InsecureRequestWarning: Unverified HTTPS request is being made. Adding certificate verification is strongly advised. See: https://urllib3.readthedocs.io/en/latest/advanced-usage.html#ssl-warnings\n",
      "  InsecureRequestWarning)\n"
     ]
    }
   ],
   "source": [
    "res = {}\n",
    "for idx , row in df.iterrows():\n",
    "    device_id = row['device_id']\n",
    "    fieldname = 'battery_%'\n",
    "    qs = get_awair_data(fieldname, device_id ) \n",
    "    if qs is None:\n",
    "        res[row['device_id']]= { 'location_specific':row['location_specific'], 'value':None, 'coordinate':row['pixel_coordinate']}\n",
    "    else:\n",
    "        res[row['device_id']]= { 'location_specific':row['location_specific'], 'value':int(qs['value'].to_string(index=False))}\n",
    "#     print(j['device_id'], j[\"location_specific\"], j['description'])\n",
    "# client.chat_postMessage(channel='#awair-reminder', text=res)"
   ]
  },
  {
   "cell_type": "code",
   "execution_count": 6,
   "metadata": {},
   "outputs": [],
   "source": [
    "non_connection_sensors = {}\n",
    "for i in res:\n",
    "    if res[i]['value'] is None:\n",
    "#         print(i)\n",
    "        non_connection_sensors[res[i]['location_specific']] = i"
   ]
  },
  {
   "cell_type": "code",
   "execution_count": 7,
   "metadata": {},
   "outputs": [
    {
     "name": "stdout",
     "output_type": "stream",
     "text": [
      "{'70886b125d88': {'location_specific': '203 Olsson', 'value': 100}, '70886b122593': {'location_specific': '204 Olsson', 'value': 96}, '70886b123c0b': {'location_specific': 'C210 Olsson', 'value': None, 'coordinate': '575,282'}, '70886b12335b': {'location_specific': 'C211 Olsson', 'value': 100}, '70886b126a0e': {'location_specific': '211 Olsson', 'value': 100}, '70886b1234a0': {'location_specific': '211 Olsson', 'value': 100}, '70886b123735': {'location_specific': '211 Olsson', 'value': 95}, '70886b1238b5': {'location_specific': '211 Olsson', 'value': 100}, '70886b12395b': {'location_specific': '211 Olsson', 'value': 97}, '70886b123962': {'location_specific': '211 Olsson', 'value': 99}, '70886b123992': {'location_specific': '211 Olsson', 'value': 97}, '70886b123b81': {'location_specific': '211 Olsson', 'value': 99}, '70886b123b83': {'location_specific': '211 Olsson', 'value': None, 'coordinate': '673,175'}, '70886b1275bc': {'location_specific': '211 Olsson', 'value': 100}, '70886b127639': {'location_specific': '211 Olsson', 'value': 98}, '70886b127730': {'location_specific': '211 Olsson', 'value': 99}, '70886b12778c': {'location_specific': '211 Olsson', 'value': 99}, '70886b1268c6': {'location_specific': '211 Olsson', 'value': 100}, '70886b126a04': {'location_specific': '211 Olsson', 'value': 99}, '70886b125d64': {'location_specific': 'C211 Olsson', 'value': 100}, '70886b123507': {'location_specific': '217 Olsson', 'value': 100}, '70886b123a60': {'location_specific': '218 Olsson', 'value': 100}, '70886b12532b': {'location_specific': '221 Olsson', 'value': None, 'coordinate': '701,89'}, '70886b12349c': {'location_specific': '221 Olsson', 'value': None, 'coordinate': '788,44'}, '70886b12537c': {'location_specific': '221 Olsson', 'value': 100}, '70886b126a7b': {'location_specific': '221 Olsson', 'value': 93}, '70886b123a62': {'location_specific': '225 Olsson', 'value': 100}, '70886b123935': {'location_specific': '240 Olsson', 'value': 100}, '70886b123039': {'location_specific': '241 Olsson', 'value': 100}, '70886b123bc8': {'location_specific': '243 Olsson', 'value': 99}, '70886b1232f1': {'location_specific': '245 Olsson', 'value': 100}, '70886b123368': {'location_specific': '251 Olsson', 'value': None, 'coordinate': '888,544'}, '70886b1235d7': {'location_specific': '255 Olsson', 'value': 100}, '70886b126223': {'location_specific': '269 Olsson', 'value': None, 'coordinate': '402,492'}, '70886b1277ca': {'location_specific': '275 Olsson', 'value': 100}, '70886b123059': {'location_specific': '275 Olsson', 'value': 98}, '70886b1230f2': {'location_specific': '275 Olsson', 'value': 99}, '70886b1235d4': {'location_specific': '275 Olsson', 'value': 100}, '70886b12762f': {'location_specific': '276 Olsson', 'value': 100}, '70886b123c41': {'location_specific': '277 Olsson', 'value': 100}, '70886b125f1e': {'location_specific': '281 Olsson', 'value': 99}}\n"
     ]
    }
   ],
   "source": [
    "print(res)"
   ]
  },
  {
   "cell_type": "code",
   "execution_count": 8,
   "metadata": {},
   "outputs": [
    {
     "name": "stdout",
     "output_type": "stream",
     "text": [
      "{'C210 Olsson': '70886b123c0b', '211 Olsson': '70886b123b83', '221 Olsson': '70886b12349c', '251 Olsson': '70886b123368', '269 Olsson': '70886b126223'}\n"
     ]
    }
   ],
   "source": [
    "print(non_connection_sensors)"
   ]
  },
  {
   "cell_type": "code",
   "execution_count": 21,
   "metadata": {},
   "outputs": [
    {
     "data": {
      "text/plain": [
       "<slack.web.slack_response.SlackResponse at 0x7f97a5474be0>"
      ]
     },
     "execution_count": 21,
     "metadata": {},
     "output_type": "execute_result"
    }
   ],
   "source": [
    "client.chat_postMessage(channel='#awair-reminder', \n",
    "                        text=f\"Awair network connectivity | Link Lab\\nAwair Omni: 41\\nStatus:\\n---------\\nno connectivity:{non_connection_sensors}\")"
   ]
  },
  {
   "cell_type": "code",
   "execution_count": null,
   "metadata": {},
   "outputs": [],
   "source": []
  },
  {
   "cell_type": "code",
   "execution_count": 22,
   "metadata": {},
   "outputs": [],
   "source": [
    "import pandas as pd\n",
    "from datetime import datetime, timedelta\n",
    "from matplotlib import pyplot as plt\n",
    "from pathlib import Path\n",
    "from PIL import Image # use the python image library\n",
    "from collections import defaultdict"
   ]
  },
  {
   "cell_type": "code",
   "execution_count": 63,
   "metadata": {
    "scrolled": true
   },
   "outputs": [
    {
     "data": {
      "text/plain": [
       "<Figure size 1872x936 with 0 Axes>"
      ]
     },
     "metadata": {},
     "output_type": "display_data"
    }
   ],
   "source": [
    "import matplotlib.image as mpimg\n",
    "# img = mpimg.imread('floorplan_resolution.png')\n",
    "img = Image.open(\"floorplan_resolution.png\")\n",
    "\n",
    "plt.figure(figsize = (26,13))\n",
    "plt.xticks(range(0,1110,50))\n",
    "plt.yticks(range(0,564,50))\n",
    "\n",
    "non_connection_sensors = {}\n",
    "points = []\n",
    "for i in res:\n",
    "    if res[i]['value'] is None:\n",
    "#         print(i)\n",
    "        non_connection_sensors[res[i]['location_specific']] = i\n",
    "        points.append(tuple(eval(res[i]['coordinate'])))\n",
    "\n",
    "# Awair-Onmi: to draw a point on co-ordinate (200,300)\n",
    "\n",
    "\n",
    "x = list(map(lambda x: x[0], points))\n",
    "y = list(map(lambda x: x[1], points))\n",
    "plt.scatter(x, y, color = 'red', s=200, label = f\"Awair-Onmi: {len(points)}\")\n",
    "\n",
    "\n",
    "# plt.grid(True)\n",
    "\n",
    "# for xy in zip(x, y):\n",
    "#     plt.annotate('(%.0f, %.0f)' % xy, xy=xy, color='green', fontsize=20)\n",
    "\n",
    "#     plt.annotate(f'({x},{y}) {des[0]}', xy=xy, color='red', fontsize=20)\n",
    "\n",
    "plt.imshow(img)\n",
    "plt.xlim([0, 1110])\n",
    "plt.ylim([564, 0])\n",
    "\n",
    "plt.legend(loc = 'upper left')\n",
    "plt.title('linklab pixel coordinate')\n",
    "plt.xlabel('Pixel x')\n",
    "plt.ylabel('Pixel Y')\n",
    "\n",
    "# plt.show()\n",
    "plt.savefig('my_plot.png')\n",
    "img = open(\"my_plot.png\", 'rb').read()\n",
    "\n",
    "client.chat_postMessage(channel='#awair-reminder', \n",
    "                        text=f\"Awair network connectivity | Link Lab\\nAwair Omni: 41\\nStatus:\\n---------\\nno connectivity:{non_connection_sensors}\")\n",
    "\n",
    "\n",
    "# Send the image\n",
    "client.files_upload(\n",
    "        channels = \"#awair-reminder\",\n",
    "        initial_comment = \"That's one small step for man, one giant leap for mankind.\",\n",
    "        filename = \"Apollo 11\",\n",
    "        content = img)\n",
    "\n",
    "plt.clf()\n"
   ]
  },
  {
   "cell_type": "code",
   "execution_count": 65,
   "metadata": {},
   "outputs": [
    {
     "name": "stdout",
     "output_type": "stream",
     "text": [
      "<class 'bytes'>\n"
     ]
    }
   ],
   "source": [
    "print (type(img))"
   ]
  },
  {
   "cell_type": "code",
   "execution_count": null,
   "metadata": {},
   "outputs": [],
   "source": []
  },
  {
   "cell_type": "code",
   "execution_count": 102,
   "metadata": {},
   "outputs": [
    {
     "name": "stdout",
     "output_type": "stream",
     "text": [
      "Retrieving client for: gateway-generic\n",
      "current Time: 18:30:57\n"
     ]
    },
    {
     "name": "stderr",
     "output_type": "stream",
     "text": [
      "/Users/apple/opt/anaconda3/envs/py36/lib/python3.6/site-packages/urllib3/connectionpool.py:847: InsecureRequestWarning: Unverified HTTPS request is being made. Adding certificate verification is strongly advised. See: https://urllib3.readthedocs.io/en/latest/advanced-usage.html#ssl-warnings\n",
      "  InsecureRequestWarning)\n"
     ]
    },
    {
     "data": {
      "text/html": [
       "<div>\n",
       "<style scoped>\n",
       "    .dataframe tbody tr th:only-of-type {\n",
       "        vertical-align: middle;\n",
       "    }\n",
       "\n",
       "    .dataframe tbody tr th {\n",
       "        vertical-align: top;\n",
       "    }\n",
       "\n",
       "    .dataframe thead th {\n",
       "        text-align: right;\n",
       "    }\n",
       "</style>\n",
       "<table border=\"1\" class=\"dataframe\">\n",
       "  <thead>\n",
       "    <tr style=\"text-align: right;\">\n",
       "      <th></th>\n",
       "      <th>time</th>\n",
       "      <th>awair_device_uuid</th>\n",
       "      <th>description</th>\n",
       "      <th>details</th>\n",
       "      <th>device_class</th>\n",
       "      <th>device_id</th>\n",
       "      <th>gateway_id</th>\n",
       "      <th>location_general</th>\n",
       "      <th>location_specific</th>\n",
       "      <th>receiver</th>\n",
       "      <th>value</th>\n",
       "    </tr>\n",
       "  </thead>\n",
       "  <tbody>\n",
       "    <tr>\n",
       "      <th>5</th>\n",
       "      <td>2023-03-13 18:30:47-04:00</td>\n",
       "      <td>awair-omni_26126</td>\n",
       "      <td>South Wall</td>\n",
       "      <td>None</td>\n",
       "      <td>undefined</td>\n",
       "      <td>70886b12624f</td>\n",
       "      <td>c0:98:e5:c0:00:38</td>\n",
       "      <td>UVA</td>\n",
       "      <td>112 Olsson</td>\n",
       "      <td>http-awairlocal-publish</td>\n",
       "      <td>100</td>\n",
       "    </tr>\n",
       "  </tbody>\n",
       "</table>\n",
       "</div>"
      ],
      "text/plain": [
       "                       time awair_device_uuid description details  \\\n",
       "5 2023-03-13 18:30:47-04:00  awair-omni_26126  South Wall    None   \n",
       "\n",
       "  device_class     device_id         gateway_id location_general  \\\n",
       "5    undefined  70886b12624f  c0:98:e5:c0:00:38              UVA   \n",
       "\n",
       "  location_specific                 receiver  value  \n",
       "5       112 Olsson   http-awairlocal-publish    100  "
      ]
     },
     "execution_count": 102,
     "metadata": {},
     "output_type": "execute_result"
    }
   ],
   "source": [
    "filepath = Path('1st_awair_with_px.csv')\n",
    "df = pd.read_csv(filepath)\n",
    "\n",
    "device_id = '70886b12624f'\n",
    "fieldname = 'battery_%'\n",
    "get_awair_data(fieldname, device_id )\n",
    "\n"
   ]
  },
  {
   "cell_type": "code",
   "execution_count": 113,
   "metadata": {},
   "outputs": [
    {
     "name": "stdout",
     "output_type": "stream",
     "text": [
      "Retrieving client for: gateway-generic\n",
      "current Time: 14:49:56\n",
      "Retrieving client for: gateway-generic\n",
      "current Time: 14:49:57\n"
     ]
    },
    {
     "name": "stderr",
     "output_type": "stream",
     "text": [
      "/Users/apple/opt/anaconda3/envs/py36/lib/python3.6/site-packages/urllib3/connectionpool.py:847: InsecureRequestWarning: Unverified HTTPS request is being made. Adding certificate verification is strongly advised. See: https://urllib3.readthedocs.io/en/latest/advanced-usage.html#ssl-warnings\n",
      "  InsecureRequestWarning)\n",
      "/Users/apple/opt/anaconda3/envs/py36/lib/python3.6/site-packages/urllib3/connectionpool.py:847: InsecureRequestWarning: Unverified HTTPS request is being made. Adding certificate verification is strongly advised. See: https://urllib3.readthedocs.io/en/latest/advanced-usage.html#ssl-warnings\n",
      "  InsecureRequestWarning)\n"
     ]
    },
    {
     "name": "stdout",
     "output_type": "stream",
     "text": [
      "Retrieving client for: gateway-generic\n",
      "current Time: 14:49:57\n",
      "Retrieving client for: gateway-generic\n",
      "current Time: 14:49:57\n"
     ]
    },
    {
     "name": "stderr",
     "output_type": "stream",
     "text": [
      "/Users/apple/opt/anaconda3/envs/py36/lib/python3.6/site-packages/urllib3/connectionpool.py:847: InsecureRequestWarning: Unverified HTTPS request is being made. Adding certificate verification is strongly advised. See: https://urllib3.readthedocs.io/en/latest/advanced-usage.html#ssl-warnings\n",
      "  InsecureRequestWarning)\n",
      "/Users/apple/opt/anaconda3/envs/py36/lib/python3.6/site-packages/urllib3/connectionpool.py:847: InsecureRequestWarning: Unverified HTTPS request is being made. Adding certificate verification is strongly advised. See: https://urllib3.readthedocs.io/en/latest/advanced-usage.html#ssl-warnings\n",
      "  InsecureRequestWarning)\n"
     ]
    },
    {
     "name": "stdout",
     "output_type": "stream",
     "text": [
      "Retrieving client for: gateway-generic\n",
      "current Time: 14:49:57\n",
      "Retrieving client for: gateway-generic\n",
      "current Time: 14:49:57\n"
     ]
    },
    {
     "name": "stderr",
     "output_type": "stream",
     "text": [
      "/Users/apple/opt/anaconda3/envs/py36/lib/python3.6/site-packages/urllib3/connectionpool.py:847: InsecureRequestWarning: Unverified HTTPS request is being made. Adding certificate verification is strongly advised. See: https://urllib3.readthedocs.io/en/latest/advanced-usage.html#ssl-warnings\n",
      "  InsecureRequestWarning)\n",
      "/Users/apple/opt/anaconda3/envs/py36/lib/python3.6/site-packages/urllib3/connectionpool.py:847: InsecureRequestWarning: Unverified HTTPS request is being made. Adding certificate verification is strongly advised. See: https://urllib3.readthedocs.io/en/latest/advanced-usage.html#ssl-warnings\n",
      "  InsecureRequestWarning)\n"
     ]
    },
    {
     "name": "stdout",
     "output_type": "stream",
     "text": [
      "Retrieving client for: gateway-generic\n",
      "current Time: 14:49:57\n",
      "Retrieving client for: gateway-generic\n",
      "current Time: 14:49:57\n"
     ]
    },
    {
     "name": "stderr",
     "output_type": "stream",
     "text": [
      "/Users/apple/opt/anaconda3/envs/py36/lib/python3.6/site-packages/urllib3/connectionpool.py:847: InsecureRequestWarning: Unverified HTTPS request is being made. Adding certificate verification is strongly advised. See: https://urllib3.readthedocs.io/en/latest/advanced-usage.html#ssl-warnings\n",
      "  InsecureRequestWarning)\n",
      "/Users/apple/opt/anaconda3/envs/py36/lib/python3.6/site-packages/urllib3/connectionpool.py:847: InsecureRequestWarning: Unverified HTTPS request is being made. Adding certificate verification is strongly advised. See: https://urllib3.readthedocs.io/en/latest/advanced-usage.html#ssl-warnings\n",
      "  InsecureRequestWarning)\n"
     ]
    }
   ],
   "source": [
    "res = {}\n",
    "for idx , row in df.iterrows():\n",
    "    device_id = row['device_id']\n",
    "    fields = ['battery_%']\n",
    "    for fieldname in fields:\n",
    "        qs = get_awair_data(fieldname, device_id ) \n",
    "        if qs is None:\n",
    "            res[row['device_id']]= { 'location_specific':row['location_specific'], 'value':None}\n",
    "        else:\n",
    "            res[row['device_id']]= { 'location_specific':row['location_specific'], 'value':int(qs['value'].to_string(index=False))}\n",
    "#     print(j['device_id'], j[\"location_specific\"], j['description'])\n",
    "# client.chat_postMessage(channel='#awair-reminder', text=res)"
   ]
  },
  {
   "cell_type": "code",
   "execution_count": 114,
   "metadata": {},
   "outputs": [
    {
     "name": "stdout",
     "output_type": "stream",
     "text": [
      "{'70886b125beb': {'location_specific': '111H Olsson', 'value': 98}, '70886b125e64': {'location_specific': '105 Olsson', 'value': 98}, '70886b125c6f': {'location_specific': '114 Olsson', 'value': 95}, '70886b125db1': {'location_specific': 'C111 Olsson', 'value': 99}, '70886b12624f': {'location_specific': '112 Olsson', 'value': 100}, '70886b126a0d': {'location_specific': '111F', 'value': 100}, '70886b125d72': {'location_specific': '104 Olsson', 'value': 100}, '70886b127d5c': {'location_specific': 'C113 Olsson', 'value': 94}}\n"
     ]
    }
   ],
   "source": [
    "print(res)"
   ]
  },
  {
   "cell_type": "code",
   "execution_count": 104,
   "metadata": {},
   "outputs": [
    {
     "name": "stdout",
     "output_type": "stream",
     "text": [
      "{}\n"
     ]
    }
   ],
   "source": [
    "non_connection_sensors = {}\n",
    "for i in res:\n",
    "    if res[i]['value'] is None:\n",
    "#         print(i)\n",
    "        non_connection_sensors[res[i]['location_specific']] = i\n",
    "\n",
    "print(non_connection_sensors)"
   ]
  },
  {
   "cell_type": "code",
   "execution_count": 112,
   "metadata": {},
   "outputs": [
    {
     "data": {
      "text/plain": [
       "<slack.web.slack_response.SlackResponse at 0x7ff6ab62a978>"
      ]
     },
     "execution_count": 112,
     "metadata": {},
     "output_type": "execute_result"
    }
   ],
   "source": [
    "client.chat_postMessage(channel='#awair-reminder', \n",
    "                        text=f\"Awair network connectivity | Olsson 1st\\nAwair Omni: 8\\nStatus:\\n---------\\nno connectivity:None\")"
   ]
  },
  {
   "cell_type": "code",
   "execution_count": null,
   "metadata": {},
   "outputs": [],
   "source": []
  }
 ],
 "metadata": {
  "kernelspec": {
   "display_name": "Python 3",
   "language": "python",
   "name": "python3"
  },
  "language_info": {
   "codemirror_mode": {
    "name": "ipython",
    "version": 3
   },
   "file_extension": ".py",
   "mimetype": "text/x-python",
   "name": "python",
   "nbconvert_exporter": "python",
   "pygments_lexer": "ipython3",
   "version": "3.6.12"
  }
 },
 "nbformat": 4,
 "nbformat_minor": 4
}
